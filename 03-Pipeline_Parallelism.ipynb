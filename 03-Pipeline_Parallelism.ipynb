{
 "cells": [
  {
   "cell_type": "markdown",
   "metadata": {},
   "source": [
    "# Pipeline Parallelism\n",
    "\n",
    "## Training Transformer models using Pipeline Parallelism\n",
    "\n",
    "\n",
    "\n",
    "\n",
    "This notebook demonstrates how to train a large Transformer model across multiple GPUs using pipeline parallelism. It is an extension of the `Sequence-to-Sequence Modeling` with `nn.Transformer` and TorchText [https://pytorch.org/tutorials/beginner/transformer_tutorial.html](https://pytorch.org/tutorials/beginner/transformer_tutorial.html) tutorial and scales up the same model to demonstrate how pipeline parallelism can be used to train Transformer models.\n",
    "\n",
    "Prerequisites:\n",
    "- [Pipeline Parallelism](https://pytorch.org/docs/stable/pipeline.html)\n",
    "- `Sequence-to-Sequence Modeling` with `nn.Transformer` and TorchText [https://pytorch.org/tutorials/beginner/transformer_tutorial.html](https://pytorch.org/tutorials/beginner/transformer_tutorial.html)\n"
   ]
  },
  {
   "cell_type": "markdown",
   "metadata": {},
   "source": [
    "## Define the model"
   ]
  },
  {
   "cell_type": "markdown",
   "metadata": {},
   "source": [
    "First, we will split a Transformer model across two GPUs and use pipeline parallelism to train it. The model is exactly the same model used in the `Sequence-to-Sequence Modeling` with `nn.Transformer` and TorchText tutorial, but it is split into two stages. The largest number of parameters belong to the `nn.TransformerEncoder` (https://pytorch.org/docs/stable/generated/torch.nn.TransformerEncoder.html) layer.\n",
    "\n",
    "The `nn.TransformerEncoder` itself consists of `nlayers` of [nn.TransformerEncoderLayer](https://pytorch.org/docs/stable/generated/torch.nn.TransformerEncoderLayer.html). As a result, our focus is on `nn.TransformerEncoder` and we split the model such that half of the `nn.TransformerEncoderLayer` are on one GPU and the other half are on another. To do this, we pull out the `Encoder` and `Decoder` sections into seperate modules and then build an `nn.Sequential` representing the original Transformer module."
   ]
  },
  {
   "cell_type": "code",
   "execution_count": 9,
   "metadata": {
    "collapsed": false,
    "jupyter": {
     "outputs_hidden": false
    }
   },
   "outputs": [],
   "source": [
    "import sys\n",
    "import math\n",
    "import torch\n",
    "import torch.nn as nn\n",
    "import torch.nn.functional as F\n",
    "import tempfile\n",
    "from torch.nn import TransformerEncoder, TransformerEncoderLayer\n",
    "\n",
    "if torch.cuda.device_count() < 2:\n",
    "    print('Need at least two GPU devices for this tutorial')\n",
    "    sys.exit(0)\n",
    "\n",
    "class Encoder(nn.Module):\n",
    "    def __init__(self, ntoken, ninp, dropout=0.5):\n",
    "        super(Encoder, self).__init__()\n",
    "        self.pos_encoder = PositionalEncoding(ninp, dropout)\n",
    "        self.encoder = nn.Embedding(ntoken, ninp)\n",
    "        self.ninp = ninp\n",
    "        self.init_weights()\n",
    "\n",
    "    def init_weights(self):\n",
    "        initrange = 0.1\n",
    "        self.encoder.weight.data.uniform_(-initrange, initrange)\n",
    "\n",
    "    def forward(self, src):\n",
    "        # Need (S, N) format for encoder.\n",
    "        src = src.t()\n",
    "        src = self.encoder(src) * math.sqrt(self.ninp)\n",
    "        return self.pos_encoder(src)\n",
    "\n",
    "class Decoder(nn.Module):\n",
    "    def __init__(self, ntoken, ninp):\n",
    "        super(Decoder, self).__init__()\n",
    "        self.decoder = nn.Linear(ninp, ntoken)\n",
    "        self.init_weights()\n",
    "\n",
    "    def init_weights(self):\n",
    "        initrange = 0.1\n",
    "        self.decoder.bias.data.zero_()\n",
    "        self.decoder.weight.data.uniform_(-initrange, initrange)\n",
    "\n",
    "    def forward(self, inp):\n",
    "        # Need batch dimension first for output of pipeline.\n",
    "        return self.decoder(inp).permute(1, 0, 2)"
   ]
  },
  {
   "cell_type": "markdown",
   "metadata": {},
   "source": [
    "`PositionalEncoding` module injects some information about the relative or absolute position of the tokens in the sequence. The\n",
    "positional encodings have the same dimension as the embeddings so that the two can be summed. Here, we use ``sine`` and ``cosine`` functions of different frequencies."
   ]
  },
  {
   "cell_type": "code",
   "execution_count": 2,
   "metadata": {
    "collapsed": false,
    "jupyter": {
     "outputs_hidden": false
    }
   },
   "outputs": [],
   "source": [
    "class PositionalEncoding(nn.Module):\n",
    "\n",
    "    def __init__(self, d_model, dropout=0.1, max_len=5000):\n",
    "        super(PositionalEncoding, self).__init__()\n",
    "        self.dropout = nn.Dropout(p=dropout)\n",
    "\n",
    "        pe = torch.zeros(max_len, d_model)\n",
    "        position = torch.arange(0, max_len, dtype=torch.float).unsqueeze(1)\n",
    "        div_term = torch.exp(torch.arange(0, d_model, 2).float() * (-math.log(10000.0) / d_model))\n",
    "        pe[:, 0::2] = torch.sin(position * div_term)\n",
    "        pe[:, 1::2] = torch.cos(position * div_term)\n",
    "        pe = pe.unsqueeze(0).transpose(0, 1)\n",
    "        self.register_buffer('pe', pe)\n",
    "\n",
    "    def forward(self, x):\n",
    "        x = x + self.pe[:x.size(0), :]\n",
    "        return self.dropout(x)"
   ]
  },
  {
   "cell_type": "markdown",
   "metadata": {},
   "source": [
    "Load and batch data\n",
    "-------------------\n",
    "\n",
    "\n"
   ]
  },
  {
   "cell_type": "markdown",
   "metadata": {},
   "source": [
    "The training process uses Wikitext-2 dataset from `torchtext`. To access torchtext datasets, please install torchdata following instructions at (https://github.com/pytorch/data)\n",
    "\n",
    "The vocab object is built based on the train dataset and is used to numericalize tokens into tensors. Starting from sequential data, the `batchify()` function arranges the dataset into columns, trimming off any tokens remaining after the data has been divided into batches of size `batch_size`. For instance, with the alphabet as the sequence (total length of 26) and a batch size of 4, we would divide the alphabet into 4 sequences of length 6:\n",
    "\n",
    "\\begin{align}\\begin{bmatrix}\n",
    "  \\text{A} & \\text{B} & \\text{C} & \\ldots & \\text{X} & \\text{Y} & \\text{Z}\n",
    "  \\end{bmatrix}\n",
    "  \\Rightarrow\n",
    "  \\begin{bmatrix}\n",
    "  \\begin{bmatrix}\\text{A} \\\\ \\text{B} \\\\ \\text{C} \\\\ \\text{D} \\\\ \\text{E} \\\\ \\text{F}\\end{bmatrix} &\n",
    "  \\begin{bmatrix}\\text{G} \\\\ \\text{H} \\\\ \\text{I} \\\\ \\text{J} \\\\ \\text{K} \\\\ \\text{L}\\end{bmatrix} &\n",
    "  \\begin{bmatrix}\\text{M} \\\\ \\text{N} \\\\ \\text{O} \\\\ \\text{P} \\\\ \\text{Q} \\\\ \\text{R}\\end{bmatrix} &\n",
    "  \\begin{bmatrix}\\text{S} \\\\ \\text{T} \\\\ \\text{U} \\\\ \\text{V} \\\\ \\text{W} \\\\ \\text{X}\\end{bmatrix}\n",
    "  \\end{bmatrix}\\end{align}\n",
    "\n",
    "These columns are treated as independent by the model, which means that the dependence of ``G`` and ``F`` can not be learned, but allows more efficient batch processing."
   ]
  },
  {
   "cell_type": "code",
   "execution_count": 3,
   "metadata": {
    "collapsed": false,
    "jupyter": {
     "outputs_hidden": false
    }
   },
   "outputs": [],
   "source": [
    "import torch\n",
    "from torchtext.datasets import WikiText2\n",
    "from torchtext.data.utils import get_tokenizer\n",
    "from torchtext.vocab import build_vocab_from_iterator\n",
    "\n",
    "train_iter = WikiText2(split='train')\n",
    "tokenizer = get_tokenizer('basic_english')\n",
    "vocab = build_vocab_from_iterator(map(tokenizer, train_iter), specials=[\"<unk>\"])\n",
    "vocab.set_default_index(vocab[\"<unk>\"]) \n",
    "\n",
    "def data_process(raw_text_iter):\n",
    "  data = [torch.tensor(vocab(tokenizer(item)), dtype=torch.long) for item in raw_text_iter]\n",
    "  return torch.cat(tuple(filter(lambda t: t.numel() > 0, data)))\n",
    "\n",
    "train_iter, val_iter, test_iter = WikiText2()\n",
    "train_data = data_process(train_iter)\n",
    "val_data = data_process(val_iter)\n",
    "test_data = data_process(test_iter)\n",
    "\n",
    "device = torch.device(\"cuda\")\n",
    "\n",
    "def batchify(data, bsz):\n",
    "    # Divide the dataset into bsz parts.\n",
    "    nbatch = data.size(0) // bsz\n",
    "    # Trim off any extra elements that wouldn't cleanly fit (remainders).\n",
    "    data = data.narrow(0, 0, nbatch * bsz)\n",
    "    # Evenly divide the data across the bsz batches.\n",
    "    data = data.view(bsz, -1).t().contiguous()\n",
    "    return data.to(device)\n",
    "\n",
    "batch_size = 20\n",
    "eval_batch_size = 10\n",
    "train_data = batchify(train_data, batch_size)\n",
    "val_data = batchify(val_data, eval_batch_size)\n",
    "test_data = batchify(test_data, eval_batch_size)"
   ]
  },
  {
   "cell_type": "markdown",
   "metadata": {},
   "source": [
    "## Functions to generate input and target sequence"
   ]
  },
  {
   "cell_type": "markdown",
   "metadata": {},
   "source": [
    "`get_batch()` function generates the input and target sequence for the transformer model. It subdivides the source data into chunks of\n",
    "length `bptt`. For the language modeling task, the model needs the following words as `Target`. For example, with a `bptt` value of 2, we would get the following two Variables for `i` = 0:\n",
    "\n",
    "<img src=\"figs/transformer_input_target.png\" alt=\"Transformer input target\" style=\"width:400px; align:center;\" />\n",
    "\n",
    "It should be noted that the chunks are along dimension 0, consistent with the `S` dimension in the Transformer model. The batch dimension `N` is along dimension 1."
   ]
  },
  {
   "cell_type": "code",
   "execution_count": 4,
   "metadata": {
    "collapsed": false,
    "jupyter": {
     "outputs_hidden": false
    }
   },
   "outputs": [],
   "source": [
    "bptt = 25\n",
    "def get_batch(source, i):\n",
    "    seq_len = min(bptt, len(source) - 1 - i)\n",
    "    data = source[i:i+seq_len]\n",
    "    target = source[i+1:i+1+seq_len].view(-1)\n",
    "    # Need batch dimension first for pipeline parallelism.\n",
    "    return data.t(), target"
   ]
  },
  {
   "cell_type": "markdown",
   "metadata": {},
   "source": [
    "## Model scale and Pipe initialization"
   ]
  },
  {
   "cell_type": "markdown",
   "metadata": {},
   "source": [
    "To demonstrate training large Transformer models using pipeline parallelism, we scale up the Transformer layers appropriately. We use an embedding dimension of 4096, hidden size of 4096, 16 attention heads and 12 total transformer layers (`nn.TransformerEncoderLayer`). This creates a model with **~1.4 billion** parameters.\n",
    "\n",
    "We need to initialize the [RPC Framework](https://pytorch.org/docs/stable/rpc.html) since Pipe depends on the RPC framework via [RRef](https://pytorch.org/docs/stable/rpc.html#rref) which allows for future expansion to cross host pipelining. We need to initialize the RPC framework with only a single worker since we're using a single process to drive multiple GPUs.\n",
    "\n",
    "The pipeline is then initialized with 8 transformer layers on one GPU and 8 transformer layers on the other GPU.\n",
    "\n",
    "<div class=\"alert alert-info\"><h4>Note</h4><p>For efficiency purposes we ensure that the `nn.Sequential` passed to `Pipe` only consists of two elements (corresponding to two GPUs), this allows the Pipe to work with only two partitions and avoid any cross-partition overheads.</p></div>"
   ]
  },
  {
   "cell_type": "code",
   "execution_count": 5,
   "metadata": {
    "collapsed": false,
    "jupyter": {
     "outputs_hidden": false
    }
   },
   "outputs": [
    {
     "name": "stdout",
     "output_type": "stream",
     "text": [
      "Total parameters in model: 1,444,261,998\n"
     ]
    }
   ],
   "source": [
    "ntokens = len(vocab) # the size of vocabulary\n",
    "emsize = 4096 # embedding dimension\n",
    "nhid = 4096 # the dimension of the feedforward network model in nn.TransformerEncoder\n",
    "nlayers = 12 # the number of nn.TransformerEncoderLayer in nn.TransformerEncoder\n",
    "nhead = 16 # the number of heads in the multiheadattention models\n",
    "dropout = 0.2 # the dropout value\n",
    "\n",
    "from torch.distributed import rpc\n",
    "tmpfile = tempfile.NamedTemporaryFile()\n",
    "rpc.init_rpc(\n",
    "    name=\"worker\",\n",
    "    rank=0,\n",
    "    world_size=1,\n",
    "    rpc_backend_options=rpc.TensorPipeRpcBackendOptions(\n",
    "        init_method=\"file://{}\".format(tmpfile.name),\n",
    "        # Specifying _transports and _channels is a workaround and we no longer\n",
    "        # will have to specify _transports and _channels for PyTorch\n",
    "        # versions >= 1.8.1\n",
    "        _transports=[\"ibv\", \"uv\"],\n",
    "        _channels=[\"cuda_ipc\", \"cuda_basic\"],\n",
    "    )\n",
    ")\n",
    "\n",
    "num_gpus = 2\n",
    "partition_len = ((nlayers - 1) // num_gpus) + 1\n",
    "\n",
    "# Add encoder in the beginning.\n",
    "tmp_list = [Encoder(ntokens, emsize, dropout).cuda(0)]\n",
    "module_list = []\n",
    "\n",
    "# Add all the necessary transformer blocks.\n",
    "for i in range(nlayers):\n",
    "    transformer_block = TransformerEncoderLayer(emsize, nhead, nhid, dropout)\n",
    "    if i != 0 and i % (partition_len) == 0:\n",
    "        module_list.append(nn.Sequential(*tmp_list))\n",
    "        tmp_list = []\n",
    "    device = i // (partition_len)\n",
    "    tmp_list.append(transformer_block.to(device))\n",
    "\n",
    "# Add decoder in the end.\n",
    "tmp_list.append(Decoder(ntokens, emsize).cuda(num_gpus - 1))\n",
    "module_list.append(nn.Sequential(*tmp_list))\n",
    "\n",
    "from torch.distributed.pipeline.sync import Pipe\n",
    "\n",
    "# Build the pipeline.\n",
    "chunks = 8\n",
    "model = Pipe(torch.nn.Sequential(*module_list), chunks = chunks)\n",
    "\n",
    "\n",
    "def get_total_params(module: torch.nn.Module):\n",
    "    total_params = 0\n",
    "    for param in module.parameters():\n",
    "        total_params += param.numel()\n",
    "    return total_params\n",
    "\n",
    "print ('Total parameters in model: {:,}'.format(get_total_params(model)))"
   ]
  },
  {
   "cell_type": "markdown",
   "metadata": {},
   "source": [
    "## Run the model"
   ]
  },
  {
   "cell_type": "markdown",
   "metadata": {},
   "source": [
    "[CrossEntropyLoss](https://pytorch.org/docs/master/nn.html?highlight=crossentropyloss#torch.nn.CrossEntropyLoss) is applied to track the loss and [SGD](https://pytorch.org/docs/master/optim.html?highlight=sgd#torch.optim.SGD) implements stochastic gradient descent method as the optimizer. The initial learning rate is set to 5.0. [StepLR](https://pytorch.org/docs/master/optim.html?highlight=steplr#torch.optim.lr_scheduler.StepLR) is applied to adjust the learn rate through epochs. During the\n",
    "training, we use [`nn.utils.clip_grad_norm`](https://pytorch.org/docs/master/nn.html?highlight=nn%20utils%20clip_grad_norm#torch.nn.utils.clip_grad_norm_) function to scale all the gradient together to prevent exploding."
   ]
  },
  {
   "cell_type": "code",
   "execution_count": 6,
   "metadata": {
    "collapsed": false,
    "jupyter": {
     "outputs_hidden": false
    }
   },
   "outputs": [],
   "source": [
    "criterion = nn.CrossEntropyLoss()\n",
    "lr = 5.0 # learning rate\n",
    "optimizer = torch.optim.SGD(model.parameters(), lr=lr)\n",
    "scheduler = torch.optim.lr_scheduler.StepLR(optimizer, 1.0, gamma=0.95)\n",
    "\n",
    "import time\n",
    "def train():\n",
    "    model.train() # Turn on the train mode\n",
    "    total_loss = 0.\n",
    "    start_time = time.time()\n",
    "    ntokens = len(vocab)\n",
    "\n",
    "    # Train only for 50 batches to keep script execution time low.\n",
    "    nbatches = min(50 * bptt, train_data.size(0) - 1)\n",
    "\n",
    "    for batch, i in enumerate(range(0, nbatches, bptt)):\n",
    "        data, targets = get_batch(train_data, i)\n",
    "        optimizer.zero_grad()\n",
    "        # Since the Pipe is only within a single host and process the ``RRef``\n",
    "        # returned by forward method is local to this node and can simply\n",
    "        # retrieved via ``RRef.local_value()``.\n",
    "        output = model(data).local_value()\n",
    "        # Need to move targets to the device where the output of the\n",
    "        # pipeline resides.\n",
    "        loss = criterion(output.view(-1, ntokens), targets.cuda(1))\n",
    "        loss.backward()\n",
    "        torch.nn.utils.clip_grad_norm_(model.parameters(), 0.5)\n",
    "        optimizer.step()\n",
    "\n",
    "        total_loss += loss.item()\n",
    "        log_interval = 10\n",
    "        if batch % log_interval == 0 and batch > 0:\n",
    "            cur_loss = total_loss / log_interval\n",
    "            elapsed = time.time() - start_time\n",
    "            print('| epoch {:3d} | {:5d}/{:5d} batches | '\n",
    "                  'lr {:02.2f} | ms/batch {:5.2f} | '\n",
    "                  'loss {:5.2f} | ppl {:8.2f}'.format(\n",
    "                    epoch, batch, nbatches // bptt, scheduler.get_lr()[0],\n",
    "                    elapsed * 1000 / log_interval,\n",
    "                    cur_loss, math.exp(cur_loss)))\n",
    "            total_loss = 0\n",
    "            start_time = time.time()\n",
    "\n",
    "def evaluate(eval_model, data_source):\n",
    "    eval_model.eval() # Turn on the evaluation mode\n",
    "    total_loss = 0.\n",
    "    ntokens = len(vocab)\n",
    "    # Evaluate only for 50 batches to keep script execution time low.\n",
    "    nbatches = min(50 * bptt, data_source.size(0) - 1)\n",
    "    with torch.no_grad():\n",
    "        for i in range(0, nbatches, bptt):\n",
    "            data, targets = get_batch(data_source, i)\n",
    "            output = eval_model(data).local_value()\n",
    "            output_flat = output.view(-1, ntokens)\n",
    "            # Need to move targets to the device where the output of the\n",
    "            # pipeline resides.\n",
    "            total_loss += len(data) * criterion(output_flat, targets.cuda(1)).item()\n",
    "    return total_loss / (len(data_source) - 1)"
   ]
  },
  {
   "cell_type": "markdown",
   "metadata": {},
   "source": [
    "Loop over epochs. Save the model if the validation loss is the best we've seen so far. Adjust the learning rate after each epoch."
   ]
  },
  {
   "cell_type": "code",
   "execution_count": 7,
   "metadata": {
    "collapsed": false,
    "jupyter": {
     "outputs_hidden": false
    }
   },
   "outputs": [
    {
     "name": "stderr",
     "output_type": "stream",
     "text": [
      "/opt/conda/lib/python3.8/site-packages/torch/optim/lr_scheduler.py:369: UserWarning: To get the last learning rate computed by the scheduler, please use `get_last_lr()`.\n",
      "  warnings.warn(\"To get the last learning rate computed by the scheduler, \"\n"
     ]
    },
    {
     "name": "stdout",
     "output_type": "stream",
     "text": [
      "| epoch   1 |    10/   50 batches | lr 5.00 | ms/batch 616.91 | loss 48.42 | ppl 1066500521324877447168.00\n",
      "| epoch   1 |    20/   50 batches | lr 5.00 | ms/batch 462.81 | loss 43.31 | ppl 6422473949457080320.00\n",
      "| epoch   1 |    30/   50 batches | lr 5.00 | ms/batch 462.74 | loss 43.23 | ppl 5921112787878293504.00\n",
      "| epoch   1 |    40/   50 batches | lr 5.00 | ms/batch 463.12 | loss 38.70 | ppl 64159244107096832.00\n",
      "-----------------------------------------------------------------------------------------\n",
      "| end of epoch   1 | time: 26.93s | valid loss  0.72 | valid ppl     2.05\n",
      "-----------------------------------------------------------------------------------------\n",
      "| epoch   2 |    10/   50 batches | lr 4.51 | ms/batch 509.66 | loss 37.85 | ppl 27381679433136540.00\n",
      "| epoch   2 |    20/   50 batches | lr 4.51 | ms/batch 463.25 | loss 28.73 | ppl 3001929301880.65\n",
      "| epoch   2 |    30/   50 batches | lr 4.51 | ms/batch 463.07 | loss 25.55 | ppl 124535293639.74\n",
      "| epoch   2 |    40/   50 batches | lr 4.51 | ms/batch 463.55 | loss 18.62 | ppl 122326960.63\n",
      "-----------------------------------------------------------------------------------------\n",
      "| end of epoch   2 | time: 25.88s | valid loss  0.27 | valid ppl     1.31\n",
      "-----------------------------------------------------------------------------------------\n",
      "| epoch   3 |    10/   50 batches | lr 4.29 | ms/batch 509.77 | loss 13.96 | ppl 1153359.65\n",
      "| epoch   3 |    20/   50 batches | lr 4.29 | ms/batch 463.70 | loss 11.34 | ppl 83759.03\n",
      "| epoch   3 |    30/   50 batches | lr 4.29 | ms/batch 463.53 | loss 12.58 | ppl 289350.01\n",
      "| epoch   3 |    40/   50 batches | lr 4.29 | ms/batch 463.44 | loss 11.33 | ppl 83399.80\n",
      "-----------------------------------------------------------------------------------------\n",
      "| end of epoch   3 | time: 25.88s | valid loss  0.25 | valid ppl     1.28\n",
      "-----------------------------------------------------------------------------------------\n"
     ]
    }
   ],
   "source": [
    "best_val_loss = float(\"inf\")\n",
    "epochs = 3 # The number of epochs\n",
    "best_model = None\n",
    "\n",
    "for epoch in range(1, epochs + 1):\n",
    "    epoch_start_time = time.time()\n",
    "    train()\n",
    "    val_loss = evaluate(model, val_data)\n",
    "    print('-' * 89)\n",
    "    print('| end of epoch {:3d} | time: {:5.2f}s | valid loss {:5.2f} | '\n",
    "          'valid ppl {:8.2f}'.format(epoch, (time.time() - epoch_start_time),\n",
    "                                     val_loss, math.exp(val_loss)))\n",
    "    print('-' * 89)\n",
    "\n",
    "    if val_loss < best_val_loss:\n",
    "        best_val_loss = val_loss\n",
    "        best_model = model\n",
    "\n",
    "    scheduler.step()"
   ]
  },
  {
   "cell_type": "markdown",
   "metadata": {},
   "source": [
    "## Evaluate the model with the test dataset"
   ]
  },
  {
   "cell_type": "markdown",
   "metadata": {},
   "source": [
    "Apply the best model to check the result with the test dataset."
   ]
  },
  {
   "cell_type": "code",
   "execution_count": 8,
   "metadata": {
    "collapsed": false,
    "jupyter": {
     "outputs_hidden": false
    }
   },
   "outputs": [
    {
     "name": "stdout",
     "output_type": "stream",
     "text": [
      "=========================================================================================\n",
      "| End of training | test loss  0.22 | test ppl     1.24\n",
      "=========================================================================================\n"
     ]
    }
   ],
   "source": [
    "test_loss = evaluate(best_model, test_data)\n",
    "print('=' * 89)\n",
    "print('| End of training | test loss {:5.2f} | test ppl {:8.2f}'.format(\n",
    "    test_loss, math.exp(test_loss)))\n",
    "print('=' * 89)"
   ]
  },
  {
   "cell_type": "markdown",
   "metadata": {},
   "source": [
    "## Credits\n",
    "\n",
    "- Pritam Damania [https://github.com/pritamdamania87](https://github.com/pritamdamania87)\n",
    "- [https://pytorch.org/tutorials/intermediate/pipeline_tutorial.html](https://pytorch.org/tutorials/intermediate/pipeline_tutorial.html)"
   ]
  },
  {
   "cell_type": "code",
   "execution_count": null,
   "metadata": {},
   "outputs": [],
   "source": []
  }
 ],
 "metadata": {
  "kernelspec": {
   "display_name": "Python 3 (ipykernel)",
   "language": "python",
   "name": "python3"
  },
  "language_info": {
   "codemirror_mode": {
    "name": "ipython",
    "version": 3
   },
   "file_extension": ".py",
   "mimetype": "text/x-python",
   "name": "python",
   "nbconvert_exporter": "python",
   "pygments_lexer": "ipython3",
   "version": "3.8.12"
  }
 },
 "nbformat": 4,
 "nbformat_minor": 4
}
