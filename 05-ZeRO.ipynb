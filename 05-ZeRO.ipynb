{
 "cells": [
  {
   "cell_type": "markdown",
   "id": "155a2b7a",
   "metadata": {},
   "source": [
    "https://github.com/pytorch/tutorials/blob/master/recipes_source/zero_redundancy_optimizer.rst"
   ]
  },
  {
   "cell_type": "code",
   "execution_count": 2,
   "id": "f891e37c",
   "metadata": {},
   "outputs": [
    {
     "name": "stdout",
     "output_type": "stream",
     "text": [
      "=== Using ZeroRedundancyOptimizer ===\n",
      "Max memory allocated after creating local model: 335.0MB \n",
      "Max memory allocated after creating DDP: 657.0MB \n",
      "Max memory allocated before optimizer step(): 979.0MB \n",
      "Max memory allocated after optimizer step(): 1364.0MB \n",
      "params sum is: -3453.60009765625\n",
      "params sum is: -3453.60009765625\n",
      "=== Not Using ZeroRedundancyOptimizer ===\n",
      "Max memory allocated after creating local model: 335.0MB \n",
      "Max memory allocated after creating DDP: 656.0MB \n",
      "Max memory allocated before optimizer step(): 992.0MB \n",
      "Max memory allocated after optimizer step(): 1697.0MB \n",
      "params sum is: -3453.60009765625\n",
      "params sum is: -3453.60009765625\n"
     ]
    }
   ],
   "source": [
    "! CUDA_VISIBLE_DEVICES=2,3 python zero.py"
   ]
  },
  {
   "cell_type": "code",
   "execution_count": null,
   "id": "d8cf9361",
   "metadata": {},
   "outputs": [],
   "source": []
  }
 ],
 "metadata": {
  "kernelspec": {
   "display_name": "Python 3 (ipykernel)",
   "language": "python",
   "name": "python3"
  },
  "language_info": {
   "codemirror_mode": {
    "name": "ipython",
    "version": 3
   },
   "file_extension": ".py",
   "mimetype": "text/x-python",
   "name": "python",
   "nbconvert_exporter": "python",
   "pygments_lexer": "ipython3",
   "version": "3.8.12"
  }
 },
 "nbformat": 4,
 "nbformat_minor": 5
}
