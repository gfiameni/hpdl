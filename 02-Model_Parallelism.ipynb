{
 "cells": [
  {
   "cell_type": "markdown",
   "metadata": {},
   "source": [
    "\n",
    "## Single-Machine Model Parallel Best Practices\n",
    "\n",
    "\n",
    "Model parallel is widely-used in distributed training techniques. Into the previous lab we have explained how to use [DataParallel](02-Data_Parallelism.ipynb) to train a neural network on multiple GPUs; this feature replicates the same model to all GPUs, where each GPU consumes a different partition of the input data. Although it can significantly accelerate the training process, it does not work for some use cases where the model is too large to fit into a single GPU. This post shows how to solve that problem by using **model parallel**, which, in contrast to ``DataParallel``, splits a single model onto different GPUs, rather than replicating the entire model on each GPU (to be concrete, say a model ``m`` contains 10 layers: when using ``DataParallel``, each GPU will have a replica of each of these 10 layers, whereas when using model parallel on two GPUs, each GPU could host 5 layers).\n",
    "\n",
    "The high-level idea of model parallel is to place different sub-networks of a model onto different devices, and implement the ``forward`` method accordingly to move intermediate outputs across devices. As only part of a model operates on any individual device, a set of devices can collectively serve a larger model. In this post, we will not try to construct huge models and squeeze them into a limited number of GPUs. Instead, this post focuses on showing the idea of model parallel. It is up to the readers to apply the ideas to real-world applications.\n",
    "\n",
    "<div class=\"alert alert-info\"><h4>Note</h4><p>For distributed model parallel training where a model spans multiple\n",
    "    servers, please refer to\n",
    "    `Getting Started With Distributed RPC Framework <rpc_tutorial.html>`__\n",
    "    for examples and details.</p></div>\n",
    "\n",
    "### Basic Usage"
   ]
  },
  {
   "cell_type": "markdown",
   "metadata": {},
   "source": [
    "Let us start with a toy model that contains two linear layers. To run this model on two GPUs, simply put each linear layer on a different GPU, and move inputs and intermediate outputs to match the layer devices accordingly."
   ]
  },
  {
   "cell_type": "code",
   "execution_count": 1,
   "metadata": {
    "collapsed": false,
    "jupyter": {
     "outputs_hidden": false
    }
   },
   "outputs": [],
   "source": [
    "import torch\n",
    "import torch.nn as nn\n",
    "import torch.optim as optim\n",
    "\n",
    "\n",
    "class ToyModel(nn.Module):\n",
    "    def __init__(self):\n",
    "        super(ToyModel, self).__init__()\n",
    "        self.net1 = torch.nn.Linear(10, 10).to('cuda:0')\n",
    "        self.relu = torch.nn.ReLU()\n",
    "        self.net2 = torch.nn.Linear(10, 5).to('cuda:1')\n",
    "\n",
    "    def forward(self, x):\n",
    "        x = self.relu(self.net1(x.to('cuda:0')))\n",
    "        return self.net2(x.to('cuda:1'))"
   ]
  },
  {
   "cell_type": "markdown",
   "metadata": {},
   "source": [
    "Note that, the above ``ToyModel`` looks very similar to how one would\n",
    "implement it on a single GPU, except the four ``to(device)`` calls which\n",
    "place linear layers and tensors on proper devices. That is the only place in\n",
    "the model that requires changes. The ``backward()`` and ``torch.optim`` will\n",
    "automatically take care of gradients as if the model is on one GPU. You only\n",
    "need to make sure that the labels are on the same device as the outputs when\n",
    "calling the loss function.\n",
    "\n"
   ]
  },
  {
   "cell_type": "code",
   "execution_count": 2,
   "metadata": {
    "collapsed": false,
    "jupyter": {
     "outputs_hidden": false
    }
   },
   "outputs": [],
   "source": [
    "model = ToyModel()\n",
    "loss_fn = nn.MSELoss()\n",
    "optimizer = optim.SGD(model.parameters(), lr=0.001)\n",
    "\n",
    "optimizer.zero_grad()\n",
    "outputs = model(torch.randn(20, 10))\n",
    "labels = torch.randn(20, 5).to('cuda:1')\n",
    "loss_fn(outputs, labels).backward()\n",
    "optimizer.step()"
   ]
  },
  {
   "cell_type": "markdown",
   "metadata": {},
   "source": [
    "Apply Model Parallel to Existing Modules\n",
    "----------------------------------------\n",
    "\n",
    "It is also possible to run an existing single-GPU module on multiple GPUs\n",
    "with just a few lines of changes. The code below shows how to decompose\n",
    "``torchvision.models.resnet50()`` to two GPUs. The idea is to inherit from\n",
    "the existing ``ResNet`` module, and split the layers to two GPUs during\n",
    "construction. Then, override the ``forward`` method to stitch two\n",
    "sub-networks by moving the intermediate outputs accordingly.\n",
    "\n"
   ]
  },
  {
   "cell_type": "code",
   "execution_count": 9,
   "metadata": {
    "collapsed": false,
    "jupyter": {
     "outputs_hidden": false
    }
   },
   "outputs": [],
   "source": [
    "from torchvision.models.resnet import ResNet, Bottleneck\n",
    "\n",
    "num_classes = 1000\n",
    "\n",
    "class ModelParallelResNet50(ResNet):\n",
    "    def __init__(self, *args, **kwargs):\n",
    "        super(ModelParallelResNet50, self).__init__(\n",
    "            Bottleneck, [3, 4, 6, 3], num_classes=num_classes, *args, **kwargs)\n",
    "\n",
    "        self.seq1 = nn.Sequential(\n",
    "            self.conv1,\n",
    "            self.bn1,\n",
    "            self.relu,\n",
    "            self.maxpool,\n",
    "\n",
    "            self.layer1,\n",
    "            self.layer2\n",
    "        ).to('cuda:0')\n",
    "\n",
    "        self.seq2 = nn.Sequential(\n",
    "            self.layer3,\n",
    "            self.layer4,\n",
    "            self.avgpool,\n",
    "        ).to('cuda:1')\n",
    "\n",
    "        self.fc.to('cuda:1')\n",
    "\n",
    "    def forward(self, x):\n",
    "        x = self.seq2(self.seq1(x).to('cuda:1'))\n",
    "        return self.fc(x.view(x.size(0), -1))"
   ]
  },
  {
   "cell_type": "markdown",
   "metadata": {},
   "source": [
    "The above implementation solves the problem for cases where the model is too\n",
    "large to fit into a single GPU. However, you might have already noticed that\n",
    "it will be slower than running it on a single GPU if your model fits. It is\n",
    "because, at any point in time, only one of the two GPUs are working, while\n",
    "the other one is sitting there doing nothing. The performance further\n",
    "deteriorates as the intermediate outputs need to be copied from ``cuda:0`` to\n",
    "``cuda:1`` between ``layer2`` and ``layer3``.\n",
    "\n",
    "Let us run an experiment to get a more quantitative view of the execution\n",
    "time. In this experiment, we train ``ModelParallelResNet50`` and the existing\n",
    "``torchvision.models.resnet50()`` by running random inputs and labels through\n",
    "them. After the training, the models will not produce any useful predictions,\n",
    "but we can get a reasonable understanding of the execution times.\n",
    "\n"
   ]
  },
  {
   "cell_type": "code",
   "execution_count": 10,
   "metadata": {
    "collapsed": false,
    "jupyter": {
     "outputs_hidden": false
    }
   },
   "outputs": [],
   "source": [
    "import torchvision.models as models\n",
    "\n",
    "num_batches = 3\n",
    "batch_size = 120\n",
    "image_w = 128\n",
    "image_h = 128\n",
    "\n",
    "\n",
    "def train(model):\n",
    "    model.train(True)\n",
    "    loss_fn = nn.MSELoss()\n",
    "    optimizer = optim.SGD(model.parameters(), lr=0.001)\n",
    "\n",
    "    one_hot_indices = torch.LongTensor(batch_size) \\\n",
    "                           .random_(0, num_classes) \\\n",
    "                           .view(batch_size, 1)\n",
    "\n",
    "    for _ in range(num_batches):\n",
    "        # generate random inputs and labels\n",
    "        inputs = torch.randn(batch_size, 3, image_w, image_h)\n",
    "        labels = torch.zeros(batch_size, num_classes) \\\n",
    "                      .scatter_(1, one_hot_indices, 1)\n",
    "\n",
    "        # run forward pass\n",
    "        optimizer.zero_grad()\n",
    "        outputs = model(inputs.to('cuda:0'))\n",
    "\n",
    "        # run backward pass\n",
    "        labels = labels.to(outputs.device)\n",
    "        loss_fn(outputs, labels).backward()\n",
    "        optimizer.step()"
   ]
  },
  {
   "cell_type": "markdown",
   "metadata": {},
   "source": [
    "The ``train(model)`` method above uses ``nn.MSELoss`` as the loss function,\n",
    "and ``optim.SGD`` as the optimizer. It mimics training on ``128 X 128``\n",
    "images which are organized into 3 batches where each batch contains 120\n",
    "images. Then, we use ``timeit`` to run the ``train(model)`` method 10 times\n",
    "and plot the execution times with standard deviations.\n",
    "\n"
   ]
  },
  {
   "cell_type": "code",
   "execution_count": 21,
   "metadata": {
    "collapsed": false,
    "jupyter": {
     "outputs_hidden": false
    }
   },
   "outputs": [
    {
     "data": {
      "image/png": "[encoded data removed]",
      "text/plain": [
       "<Figure size 432x288 with 1 Axes>"
      ]
     },
     "metadata": {
      "needs_background": "light"
     },
     "output_type": "display_data"
    }
   ],
   "source": [
    "import matplotlib.pyplot as plt\n",
    "plt.switch_backend('Agg')\n",
    "import numpy as np\n",
    "import timeit\n",
    "\n",
    "num_repeat = 10\n",
    "\n",
    "stmt = \"train(model)\"\n",
    "\n",
    "setup = \"model = ModelParallelResNet50()\"\n",
    "mp_run_times = timeit.repeat(\n",
    "    stmt, setup, number=1, repeat=num_repeat, globals=globals())\n",
    "mp_mean, mp_std = np.mean(mp_run_times), np.std(mp_run_times)\n",
    "\n",
    "setup = \"import torchvision.models as models;\" + \\\n",
    "        \"model = models.resnet50(num_classes=num_classes).to('cuda:0')\"\n",
    "rn_run_times = timeit.repeat(\n",
    "    stmt, setup, number=1, repeat=num_repeat, globals=globals())\n",
    "rn_mean, rn_std = np.mean(rn_run_times), np.std(rn_run_times)\n",
    "\n",
    "\n",
    "def plot(means, stds, labels, fig_name):\n",
    "    %matplotlib inline\n",
    "    fig, ax = plt.subplots()\n",
    "    ax.bar(np.arange(len(means)), means, yerr=stds,\n",
    "           align='center', alpha=0.5, ecolor='red', capsize=10, width=0.6)\n",
    "    ax.set_ylabel('ResNet50 Execution Time (Second)')\n",
    "    ax.set_xticks(np.arange(len(means)))\n",
    "    ax.set_xticklabels(labels)\n",
    "    ax.yaxis.grid(True)\n",
    "    plt.tight_layout()\n",
    "    plt.savefig(fig_name)\n",
    "    plt.show()\n",
    "    plt.close(fig)\n",
    "\n",
    "\n",
    "plot([mp_mean, rn_mean],\n",
    "     [mp_std, rn_std],\n",
    "     ['Model Parallel', 'Single GPU'],\n",
    "     'mp_vs_rn.png')"
   ]
  },
  {
   "cell_type": "markdown",
   "metadata": {},
   "source": [
    "The result shows that the execution time of model parallel implementation is\n",
    "``4.02/3.75-1=7%`` longer than the existing single-GPU implementation. So we\n",
    "can conclude there is roughly 7% overhead in copying tensors back and forth\n",
    "across the GPUs. There are rooms for improvements, as we know one of the two\n",
    "GPUs is sitting idle throughout the execution. One option is to further\n",
    "divide each batch into a pipeline of splits, such that when one split reaches\n",
    "the second sub-network, the following split can be fed into the first\n",
    "sub-network. In this way, two consecutive splits can run concurrently on two\n",
    "GPUs.\n",
    "\n"
   ]
  },
  {
   "cell_type": "markdown",
   "metadata": {},
   "source": [
    "Speed Up by Pipelining Inputs\n",
    "-----------------------------\n",
    "\n",
    "In the following experiments, we further divide each 120-image batch into\n",
    "20-image splits. As PyTorch launches CUDA operations asynchronously, the\n",
    "implementation does not need to spawn multiple threads to achieve\n",
    "concurrency.\n",
    "\n"
   ]
  },
  {
   "cell_type": "code",
   "execution_count": 22,
   "metadata": {
    "collapsed": false,
    "jupyter": {
     "outputs_hidden": false
    }
   },
   "outputs": [
    {
     "data": {
      "image/png": "[encoded data removed]",
      "text/plain": [
       "<Figure size 432x288 with 1 Axes>"
      ]
     },
     "metadata": {
      "needs_background": "light"
     },
     "output_type": "display_data"
    }
   ],
   "source": [
    "class PipelineParallelResNet50(ModelParallelResNet50):\n",
    "    def __init__(self, split_size=20, *args, **kwargs):\n",
    "        super(PipelineParallelResNet50, self).__init__(*args, **kwargs)\n",
    "        self.split_size = split_size\n",
    "\n",
    "    def forward(self, x):\n",
    "        splits = iter(x.split(self.split_size, dim=0))\n",
    "        s_next = next(splits)\n",
    "        s_prev = self.seq1(s_next).to('cuda:1')\n",
    "        ret = []\n",
    "\n",
    "        for s_next in splits:\n",
    "            # A. s_prev runs on cuda:1\n",
    "            s_prev = self.seq2(s_prev)\n",
    "            ret.append(self.fc(s_prev.view(s_prev.size(0), -1)))\n",
    "\n",
    "            # B. s_next runs on cuda:0, which can run concurrently with A\n",
    "            s_prev = self.seq1(s_next).to('cuda:1')\n",
    "\n",
    "        s_prev = self.seq2(s_prev)\n",
    "        ret.append(self.fc(s_prev.view(s_prev.size(0), -1)))\n",
    "\n",
    "        return torch.cat(ret)\n",
    "\n",
    "\n",
    "setup = \"model = PipelineParallelResNet50()\"\n",
    "pp_run_times = timeit.repeat(\n",
    "    stmt, setup, number=1, repeat=num_repeat, globals=globals())\n",
    "pp_mean, pp_std = np.mean(pp_run_times), np.std(pp_run_times)\n",
    "\n",
    "plot([mp_mean, rn_mean, pp_mean],\n",
    "     [mp_std, rn_std, pp_std],\n",
    "     ['Model Parallel', 'Single GPU', 'Pipelining Model Parallel'],\n",
    "     'mp_vs_rn_vs_pp.png')"
   ]
  },
  {
   "cell_type": "markdown",
   "metadata": {},
   "source": [
    "Please note, device-to-device tensor copy operations are synchronized on current streams on the source and the destination devices. If you create\n",
    "multiple streams, you have to make sure that copy operations are properly synchronized. Writing the source tensor or reading/writing the destination\n",
    "tensor before finishing the copy operation can lead to undefined behavior. The above implementation only uses default streams on both source and\n",
    "destination devices, hence it is not necessary to enforce additional synchronizations.\n",
    "\n",
    "The experiment result shows that, pipelining inputs to model parallel ResNet50 speeds up the training process by roughly ``3.75/2.51-1=49%``. It is\n",
    "still quite far away from the ideal 100% speedup. As we have introduced a new parameter ``split_sizes`` in our pipeline parallel implementation, it is\n",
    "unclear how the new parameter affects the overall training time. Intuitively speaking, using small ``split_size`` leads to many tiny CUDA kernel launch,\n",
    "while using large ``split_size`` results to relatively long idle times during the first and last splits. Neither are optimal. There might be an optimal\n",
    "``split_size`` configuration for this specific experiment. Let us try to find it by running experiments using several different ``split_size`` values."
   ]
  },
  {
   "cell_type": "code",
   "execution_count": 23,
   "metadata": {
    "collapsed": false,
    "jupyter": {
     "outputs_hidden": false
    }
   },
   "outputs": [
    {
     "data": {
      "image/png": "[encoded data removed]",
      "text/plain": [
       "<Figure size 432x288 with 1 Axes>"
      ]
     },
     "metadata": {
      "needs_background": "light"
     },
     "output_type": "display_data"
    }
   ],
   "source": [
    "means = []\n",
    "stds = []\n",
    "split_sizes = [1, 3, 5, 8, 10, 12, 20, 40, 60]\n",
    "\n",
    "for split_size in split_sizes:\n",
    "    setup = \"model = PipelineParallelResNet50(split_size=%d)\" % split_size\n",
    "    pp_run_times = timeit.repeat(\n",
    "        stmt, setup, number=1, repeat=num_repeat, globals=globals())\n",
    "    means.append(np.mean(pp_run_times))\n",
    "    stds.append(np.std(pp_run_times))\n",
    "\n",
    "fig, ax = plt.subplots()\n",
    "ax.plot(split_sizes, means)\n",
    "ax.errorbar(split_sizes, means, yerr=stds, ecolor='red', fmt='ro')\n",
    "ax.set_ylabel('ResNet50 Execution Time (Second)')\n",
    "ax.set_xlabel('Pipeline Split Size')\n",
    "ax.set_xticks(split_sizes)\n",
    "ax.yaxis.grid(True)\n",
    "plt.tight_layout()\n",
    "plt.savefig(\"split_size_tradeoff.png\")\n",
    "plt.show()\n",
    "plt.close(fig)"
   ]
  },
  {
   "cell_type": "markdown",
   "metadata": {},
   "source": [
    "The result shows that setting ``split_size`` to 12 achieves the fastest training speed, which leads to ``3.75/2.43-1=54%`` speedup. There are\n",
    "still opportunities to further accelerate the training process. For example, all operations on ``cuda:0`` is placed on its default stream. It means that\n",
    "computations on the next split cannot overlap with the copy operation of the prev split. However, as prev and next splits are different tensors, there is\n",
    "no problem to overlap one's computation with the other one's copy. The implementation need to use multiple streams on both GPUs, and different\n",
    "sub-network structures require different stream management strategies. As no general multi-stream solution works for all model parallel use cases, we will\n",
    "not discuss it in this tutorial.\n",
    "\n",
    "**Note:**\n",
    "\n",
    "This lab shows several performance measurements. You might see different\n",
    "numbers when running the same code on your own machine, because the result\n",
    "depends on the underlying hardware and software. To get the best performance\n",
    "for your environment, a proper approach is to first generate the curve to\n",
    "figure out the best split size, and then use that split size to pipeline\n",
    "inputs.\n",
    "\n",
    "\n"
   ]
  },
  {
   "cell_type": "markdown",
   "metadata": {},
   "source": [
    "## Credits"
   ]
  },
  {
   "cell_type": "markdown",
   "metadata": {},
   "source": [
    "- Shen Li [https://mrshenli.github.io](https://mrshenli.github.io)"
   ]
  },
  {
   "cell_type": "code",
   "execution_count": null,
   "metadata": {},
   "outputs": [],
   "source": []
  }
 ],
 "metadata": {
  "kernelspec": {
   "display_name": "Python 3 (ipykernel)",
   "language": "python",
   "name": "python3"
  },
  "language_info": {
   "codemirror_mode": {
    "name": "ipython",
    "version": 3
   },
   "file_extension": ".py",
   "mimetype": "text/x-python",
   "name": "python",
   "nbconvert_exporter": "python",
   "pygments_lexer": "ipython3",
   "version": "3.8.12"
  }
 },
 "nbformat": 4,
 "nbformat_minor": 4
}
