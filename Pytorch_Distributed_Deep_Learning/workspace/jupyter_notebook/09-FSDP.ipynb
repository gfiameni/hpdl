{
 "cells": [
  {
   "cell_type": "markdown",
   "id": "f51fc419",
   "metadata": {},
   "source": [
    "# Fully Sharded Data Parallel"
   ]
  },
  {
   "cell_type": "markdown",
   "id": "dc1f0fea",
   "metadata": {},
   "source": [
    "[https://pytorch.org/blog/introducing-pytorch-fully-sharded-data-parallel-api/](https://pytorch.org/blog/introducing-pytorch-fully-sharded-data-parallel-api/)"
   ]
  },
  {
   "cell_type": "code",
   "execution_count": null,
   "id": "ade471aa",
   "metadata": {},
   "outputs": [],
   "source": []
  }
 ],
 "metadata": {
  "kernelspec": {
   "display_name": "Python 3 (ipykernel)",
   "language": "python",
   "name": "python3"
  },
  "language_info": {
   "codemirror_mode": {
    "name": "ipython",
    "version": 3
   },
   "file_extension": ".py",
   "mimetype": "text/x-python",
   "name": "python",
   "nbconvert_exporter": "python",
   "pygments_lexer": "ipython3",
   "version": "3.8.12"
  }
 },
 "nbformat": 4,
 "nbformat_minor": 5
}
