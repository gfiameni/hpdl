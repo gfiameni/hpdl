{
 "cells": [
  {
   "cell_type": "markdown",
   "id": "e70926f1",
   "metadata": {},
   "source": [
    "<p><center> <a href=\"../Start_Here.ipynb\"> Home Page</a> </center> </p> \n",
    "<div>\n",
    "    <span style=\"float: left; width:20%; text-align: left;\"><a href=\"03-Pipeline_Parallelism.ipynb\" >Previous Notebook </a></span>\n",
    "    <span style=\"float: left; width:75%; text-align: right;\"><a href=\"05-Memory_Format.ipynb\" >Next Notebook </a></span>\n",
    "    \n",
    "</div>"
   ]
  },
  {
   "cell_type": "markdown",
   "id": "39bb476d",
   "metadata": {},
   "source": [
    "# Automatic Mixed Precision\n",
    "\n",
    "---"
   ]
  },
  {
   "cell_type": "markdown",
   "id": "48868c3b",
   "metadata": {},
   "source": [
    "Deep Neural Network training has traditionally relied on IEEE single-precision format, however with mixed precision, you can train with half precision while maintaining the network accuracy achieved with single precision. This technique of using both single- and half-precision representations is referred to as mixed precision technique.\n",
    "- Benefits of Mixed precision training\n",
    "- Speeds up math-intensive operations, such as linear and convolution layers, by using Tensor Cores.\n",
    "- Speeds up memory-limited operations by accessing half the bytes compared to single-precision.\n",
    "- Reduces memory requirements for training models, enabling larger models or larger minibatches."
   ]
  },
  {
   "cell_type": "markdown",
   "id": "ea31aefa",
   "metadata": {},
   "source": [
    "![AMP](images/dev-ai-tech-amp.png)"
   ]
  },
  {
   "cell_type": "markdown",
   "id": "37762175",
   "metadata": {},
   "source": [
    "## Launch command"
   ]
  },
  {
   "cell_type": "code",
   "execution_count": null,
   "id": "c9627767",
   "metadata": {},
   "outputs": [],
   "source": [
    "! CUDA_VISIBLE_DEVICES=2,3 torchrun --nproc_per_node 2 ../source_code/ddp_mixed_precision.py"
   ]
  },
  {
   "cell_type": "markdown",
   "id": "92e6d367",
   "metadata": {},
   "source": [
    "---\n",
    "## Referneces"
   ]
  },
  {
   "cell_type": "markdown",
   "id": "4aabc68f",
   "metadata": {},
   "source": [
    "- https://developer.nvidia.com/automatic-mixed-precision"
   ]
  },
  {
   "cell_type": "markdown",
   "id": "06e84663",
   "metadata": {},
   "source": [
    "<div>\n",
    "    <span style=\"float: left; width:20%; text-align: left;\"><a href=\"03-Pipeline_Parallelism.ipynb\" >Previous Notebook </a></span>\n",
    "    <span style=\"float: left; width:75%; text-align: right;\"><a href=\"05-Memory_Format.ipynb\" >Next Notebook </a></span>\n",
    "    \n",
    "</div>\n",
    "<br/>\n",
    "<p><center> <a href=\"../Start_Here.ipynb\"> Home Page</a> </center> </p> "
   ]
  }
 ],
 "metadata": {
  "kernelspec": {
   "display_name": "Python 3",
   "language": "python",
   "name": "python3"
  },
  "language_info": {
   "codemirror_mode": {
    "name": "ipython",
    "version": 3
   },
   "file_extension": ".py",
   "mimetype": "text/x-python",
   "name": "python",
   "nbconvert_exporter": "python",
   "pygments_lexer": "ipython3",
   "version": "3.8.8"
  }
 },
 "nbformat": 4,
 "nbformat_minor": 5
}
