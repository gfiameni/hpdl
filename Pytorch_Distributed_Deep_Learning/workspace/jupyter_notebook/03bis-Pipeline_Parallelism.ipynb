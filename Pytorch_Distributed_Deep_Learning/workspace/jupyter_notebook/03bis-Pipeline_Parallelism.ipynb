{
 "cells": [
  {
   "cell_type": "markdown",
   "metadata": {
    "id": "923g2hXPWPh9"
   },
   "source": [
    "# Pipeline Parallelism\n",
    "\n",
    "## Training Transformer models using Distributed Data Parallel and Pipeline Parallelism\n",
    "\n",
    "This notebook demonstrates how to train a large Transformer model across multiple GPUs using [Distributed Data Parallel](https://pytorch.org/docs/stable/generated/torch.nn.parallel.DistributedDataParallel.html) and [Pipeline Parallelism](https://pytorch.org/docs/stable/pipeline.html). This is an extension of the **Sequence-to-Sequence Modeling** with `nn.Transformer` and [TorchText](https://pytorch.org/tutorials/beginner/transformer_tutorial.html) tutorial and scales up the same model to demonstrate how **Distributed Data Parallel** and **Pipeline Parallelism** can be used to train Transformer models.\n",
    "\n",
    "Additional material:\n",
    "\n",
    "- [Pipeline Parallelism](https://pytorch.org/docs/stable/pipeline.html)\n",
    "- Sequence-to-Sequence Modeling with `nn.Transformer` and [TorchText](https://pytorch.org/tutorials/beginner/transformer_tutorial.html)\n",
    "- Getting Started with [Distributed Data Parallel](01-Data_Parallelism.ipynb)"
   ]
  },
  {
   "cell_type": "markdown",
   "metadata": {
    "id": "2EhcQ7hAWPiF"
   },
   "source": [
    "## Define the model"
   ]
  },
  {
   "cell_type": "markdown",
   "metadata": {
    "id": "QLJmKmhkWPiI"
   },
   "source": [
    "``PositionalEncoding`` module injects some information about the\n",
    "relative or absolute position of the tokens in the sequence. The\n",
    "positional encodings have the same dimension as the embeddings so that\n",
    "the two can be summed. Here, we use ``sine`` and ``cosine`` functions of\n",
    "different frequencies.\n",
    "\n"
   ]
  },
  {
   "cell_type": "markdown",
   "metadata": {
    "id": "ZnapRXloWPiK"
   },
   "source": [
    "```python\n",
    "import sys\n",
    "import os\n",
    "import math\n",
    "import torch\n",
    "import torch.nn as nn\n",
    "import torch.nn.functional as F\n",
    "import tempfile\n",
    "from torch.nn import TransformerEncoder, TransformerEncoderLayer\n",
    "\n",
    "class PositionalEncoding(nn.Module):\n",
    "\n",
    "    def __init__(self, d_model, dropout=0.1, max_len=5000):\n",
    "        super(PositionalEncoding, self).__init__()\n",
    "        self.dropout = nn.Dropout(p=dropout)\n",
    "\n",
    "        pe = torch.zeros(max_len, d_model)\n",
    "        position = torch.arange(0, max_len, dtype=torch.float).unsqueeze(1)\n",
    "        div_term = torch.exp(torch.arange(0, d_model, 2).float() * (-math.log(10000.0) / d_model))\n",
    "        pe[:, 0::2] = torch.sin(position * div_term)\n",
    "        pe[:, 1::2] = torch.cos(position * div_term)\n",
    "        pe = pe.unsqueeze(0).transpose(0, 1)\n",
    "        self.register_buffer('pe', pe)\n",
    "\n",
    "    def forward(self, x):\n",
    "        x = x + self.pe[:x.size(0), :]\n",
    "        return self.dropout(x)\n",
    "```"
   ]
  },
  {
   "cell_type": "markdown",
   "metadata": {
    "id": "jalAzRYBWPiM"
   },
   "source": [
    "In this notebook, we will split a Transformer model across two GPUs and use Pipeline Parallelism for training. In addition to this, we use Distributed Data Parallel to train two replicas of this pipeline. We have one process driving a pipe across GPUs 0 and 1 and another process driving a pipe across GPUs 2 and 3. Both these processes then use Distributed Data Parallel to train the two replicas. The model is exactly the same model used in the Sequence-to-Sequence Modeling but split into two stages. The largest number of parameters belong to the\n",
    "[nn.TransformerEncoder](https://pytorch.org/docs/stable/generated/torch.nn.TransformerEncoder.html) layer.\n",
    "\n",
    "The `nn.TransformerEncoder` of `nlayers` of [nn.TransformerEncoderLayer](https://pytorch.org/docs/stable/generated/torch.nn.TransformerEncoderLayer.html). As a result, our focus is on `nn.TransformerEncoder` and we split the model such that half of the `nn.TransformerEncoderLayer` are on one GPU and the other half are on another. To do this, we pull out the `Encoder` and `Decoder` sections into seperate modules and then build an `nn.Sequential` representing the original Transformer module."
   ]
  },
  {
   "cell_type": "markdown",
   "metadata": {
    "id": "TVXLCVnwWPiN"
   },
   "source": [
    "```python \n",
    "\n",
    "if torch.cuda.device_count() < 4:\n",
    "    print('Need at least four GPU devices for this tutorial')\n",
    "    sys.exit(0)\n",
    "\n",
    "class Encoder(nn.Module):\n",
    "    def __init__(self, ntoken, ninp, dropout=0.5):\n",
    "        super(Encoder, self).__init__()\n",
    "        self.pos_encoder = PositionalEncoding(ninp, dropout)\n",
    "        self.encoder = nn.Embedding(ntoken, ninp)\n",
    "        self.ninp = ninp\n",
    "        self.init_weights()\n",
    "\n",
    "    def init_weights(self):\n",
    "        initrange = 0.1\n",
    "        self.encoder.weight.data.uniform_(-initrange, initrange)\n",
    "\n",
    "    def forward(self, src):\n",
    "        # Need (S, N) format for encoder.\n",
    "        src = src.t()\n",
    "        src = self.encoder(src) * math.sqrt(self.ninp)\n",
    "        return self.pos_encoder(src)\n",
    "\n",
    "class Decoder(nn.Module):\n",
    "    def __init__(self, ntoken, ninp):\n",
    "        super(Decoder, self).__init__()\n",
    "        self.decoder = nn.Linear(ninp, ntoken)\n",
    "        self.init_weights()\n",
    "\n",
    "    def init_weights(self):\n",
    "        initrange = 0.1\n",
    "        self.decoder.bias.data.zero_()\n",
    "        self.decoder.weight.data.uniform_(-initrange, initrange)\n",
    "\n",
    "    def forward(self, inp):\n",
    "        # Need batch dimension first for output of pipeline.\n",
    "        return self.decoder(inp).permute(1, 0, 2)\n",
    "```"
   ]
  },
  {
   "cell_type": "markdown",
   "metadata": {
    "id": "_8j3p0cOWPiP"
   },
   "source": [
    "## Start multiple processes for training"
   ]
  },
  {
   "cell_type": "markdown",
   "metadata": {
    "id": "INNWxmSJWPiQ"
   },
   "source": [
    "We start two processes where each process drives its own pipeline across two GPUs. `run_worker` is executed for each process."
   ]
  },
  {
   "cell_type": "markdown",
   "metadata": {
    "id": "M0rFrdigWPiS"
   },
   "source": [
    "```python\n",
    "def run_worker(rank, world_size):\n",
    "```"
   ]
  },
  {
   "cell_type": "markdown",
   "metadata": {
    "id": "GNqUIJltWPiT"
   },
   "source": [
    "## Load and batch data"
   ]
  },
  {
   "cell_type": "markdown",
   "metadata": {
    "id": "g5GGclu1WPiU"
   },
   "source": [
    "The training process uses Wikitext-2 dataset from `torchtext`. To access torchtext datasets, you can install it following instructions at https://github.com/pytorch/data.\n",
    "\n",
    "The vocab object is built based on the train dataset and is used to numericalize tokens into tensors. Starting from sequential data, the `batchify()` function arranges the dataset into columns, trimming off any tokens remaining after the data has been divided into batches of size `batch_size`. For instance, with the alphabet as the sequence (total length of 26) and a batch size of 4, we would divide the alphabet into 4 sequences of length 6:\n",
    "\n",
    "\\begin{align}\\begin{bmatrix}\n",
    "  \\text{A} & \\text{B} & \\text{C} & \\ldots & \\text{X} & \\text{Y} & \\text{Z}\n",
    "  \\end{bmatrix}\n",
    "  \\Rightarrow\n",
    "  \\begin{bmatrix}\n",
    "  \\begin{bmatrix}\\text{A} \\\\ \\text{B} \\\\ \\text{C} \\\\ \\text{D} \\\\ \\text{E} \\\\ \\text{F}\\end{bmatrix} &\n",
    "  \\begin{bmatrix}\\text{G} \\\\ \\text{H} \\\\ \\text{I} \\\\ \\text{J} \\\\ \\text{K} \\\\ \\text{L}\\end{bmatrix} &\n",
    "  \\begin{bmatrix}\\text{M} \\\\ \\text{N} \\\\ \\text{O} \\\\ \\text{P} \\\\ \\text{Q} \\\\ \\text{R}\\end{bmatrix} &\n",
    "  \\begin{bmatrix}\\text{S} \\\\ \\text{T} \\\\ \\text{U} \\\\ \\text{V} \\\\ \\text{W} \\\\ \\text{X}\\end{bmatrix}\n",
    "  \\end{bmatrix}\\end{align}\n",
    "\n",
    "These columns are treated as independent by the model, which means that the dependence of `G` and `F` can not be learned, but allows more efficient batch processing."
   ]
  },
  {
   "cell_type": "markdown",
   "metadata": {
    "id": "tyqrhJdIWPiV"
   },
   "source": [
    "```python\n",
    "# In 'run_worker'\n",
    "def print_with_rank(msg):\n",
    "        print('[RANK {}]: {}'.format(rank, msg))\n",
    "\n",
    "from torchtext.datasets import WikiText2\n",
    "from torchtext.data.utils import get_tokenizer\n",
    "from torchtext.vocab import build_vocab_from_iterator\n",
    "\n",
    "train_iter = WikiText2(split='train')\n",
    "tokenizer = get_tokenizer('basic_english')\n",
    "vocab = build_vocab_from_iterator(map(tokenizer, train_iter), specials=[\"<unk>\"])\n",
    "vocab.set_default_index(vocab[\"<unk>\"]) \n",
    "\n",
    "def data_process(raw_text_iter):\n",
    "      data = [torch.tensor(vocab(tokenizer(item)), dtype=torch.long) for item in raw_text_iter]\n",
    "      return torch.cat(tuple(filter(lambda t: t.numel() > 0, data)))\n",
    "\n",
    "train_iter, val_iter, test_iter = WikiText2()\n",
    "train_data = data_process(train_iter)\n",
    "val_data = data_process(val_iter)\n",
    "test_data = data_process(test_iter)\n",
    "\n",
    "device = torch.device(2 * rank)\n",
    "\n",
    "def batchify(data, bsz, rank, world_size, is_train=False):\n",
    "    # Divide the dataset into bsz parts.\n",
    "    nbatch = data.size(0) // bsz\n",
    "    # Trim off any extra elements that wouldn't cleanly fit (remainders).\n",
    "    data = data.narrow(0, 0, nbatch * bsz)\n",
    "    # Evenly divide the data across the bsz batches.\n",
    "    data = data.view(bsz, -1).t().contiguous()\n",
    "    # Divide the data across the ranks only for training data.\n",
    "    if is_train:\n",
    "        data_per_rank = data.size(0) // world_size\n",
    "        data = data[rank * data_per_rank : (rank + 1) * data_per_rank]\n",
    "    return data.to(device)\n",
    "\n",
    "batch_size = 20\n",
    "eval_batch_size = 10\n",
    "train_data = batchify(train_data, batch_size, rank, world_size, True)\n",
    "val_data = batchify(val_data, eval_batch_size, rank, world_size)\n",
    "test_data = batchify(test_data, eval_batch_size, rank, world_size)\n",
    "```"
   ]
  },
  {
   "cell_type": "markdown",
   "metadata": {
    "id": "Y4o16U_ZWPiW"
   },
   "source": [
    "## Functions to generate input and target sequence"
   ]
  },
  {
   "cell_type": "markdown",
   "metadata": {
    "id": "Jf5Kw_dqWPiW"
   },
   "source": [
    "`get_batch()` function generates the input and target sequence for the transformer model. It subdivides the source data into chunks of length `bptt`. For the language modeling task, the model needs the following words as `Target`. For example, with a `bptt` value of 2, we would get the following two Variables for `i` = 0:\n",
    "\n",
    "![alt text](figs/transformer_input_target.png \"Transformer input target\")\n",
    "\n",
    "It should be noted that the chunks are along dimension 0, consistent with the `S` dimension in the Transformer model. The batch dimension ``N`` is along dimension 1.\n",
    "\n",
    "\n"
   ]
  },
  {
   "cell_type": "markdown",
   "metadata": {
    "id": "idDTSZPnWPiX"
   },
   "source": [
    "```python\n",
    "# In 'run_worker'\n",
    "bptt = 35\n",
    "def get_batch(source, i):\n",
    "    seq_len = min(bptt, len(source) - 1 - i)\n",
    "    data = source[i:i+seq_len]\n",
    "    target = source[i+1:i+1+seq_len].view(-1)\n",
    "    # Need batch dimension first for pipeline parallelism.\n",
    "    return data.t(), target\n",
    "```"
   ]
  },
  {
   "cell_type": "markdown",
   "metadata": {
    "id": "t8m6gkd8WPiY"
   },
   "source": [
    "## Model scale and Pipe initialization"
   ]
  },
  {
   "cell_type": "markdown",
   "metadata": {
    "id": "szCPbGeJWPiY"
   },
   "source": [
    "To demonstrate training large Transformer models using pipeline parallelism, we scale up the Transformer layers appropriately. We use an embedding dimension of 4096, hidden size of 4096, 16 attention heads and 8 total transformer layers (`nn.TransformerEncoderLayer`). This creates a model with **~1 billion** parameters.\n",
    "\n",
    "We need to initialize the [RPC Framework](https://pytorch.org/docs/stable/rpc.html) since Pipe depends on the RPC framework via [RRef](https://pytorch.org/docs/stable/rpc.html#rref) which allows for future expansion to cross host pipelining. We need to initialize the RPC framework with only a single worker since we are using a single process to drive multiple GPUs.\n",
    "\n",
    "The pipeline is then initialized with 8 transformer layers on one GPU and 8 transformer layers on the other GPU. One pipe is setup across GPUs 0 and 1 and another across GPUs 2 and 3. Both pipes are then replicated using DistributedDataParallel."
   ]
  },
  {
   "cell_type": "markdown",
   "metadata": {
    "id": "iRT1ShQjWPiZ"
   },
   "source": [
    "```python\n",
    "# In 'run_worker'\n",
    "ntokens = len(vocab) # the size of vocabulary\n",
    "emsize = 4096 # embedding dimension\n",
    "nhid = 4096 # the dimension of the feedforward network model in nn.TransformerEncoder\n",
    "nlayers = 8 # the number of nn.TransformerEncoderLayer in nn.TransformerEncoder\n",
    "nhead = 16 # the number of heads in the multiheadattention models\n",
    "dropout = 0.2 # the dropout value\n",
    "\n",
    "from torch.distributed import rpc\n",
    "tmpfile = tempfile.NamedTemporaryFile()\n",
    "rpc.init_rpc(\n",
    "    name=\"worker\",\n",
    "    rank=0,\n",
    "    world_size=1,\n",
    "    rpc_backend_options=rpc.TensorPipeRpcBackendOptions(\n",
    "        init_method=\"file://{}\".format(tmpfile.name),\n",
    "        # Specifying _transports and _channels is a workaround and we no longer\n",
    "        # will have to specify _transports and _channels for PyTorch\n",
    "        # versions >= 1.8.1\n",
    "        _transports=[\"ibv\", \"uv\"],\n",
    "        _channels=[\"cuda_ipc\", \"cuda_basic\"],\n",
    "    )\n",
    ")\n",
    "\n",
    "# Num gpus for model parallelism.\n",
    "num_gpus = 2\n",
    "partition_len = ((nlayers - 1) // num_gpus) + 1\n",
    "\n",
    "# Add encoder in the beginning.\n",
    "tmp_list = [Encoder(ntokens, emsize, dropout).cuda(2 * rank)]\n",
    "module_list = []\n",
    "\n",
    "# Add all the necessary transformer blocks.\n",
    "for i in range(nlayers):\n",
    "    transformer_block = TransformerEncoderLayer(emsize, nhead, nhid, dropout)\n",
    "    if i != 0 and i % (partition_len) == 0:\n",
    "        module_list.append(nn.Sequential(*tmp_list))\n",
    "        tmp_list = []\n",
    "    device = i // (partition_len)\n",
    "    tmp_list.append(transformer_block.to(2 * rank + device))\n",
    "\n",
    "# Add decoder in the end.\n",
    "tmp_list.append(Decoder(ntokens, emsize).cuda(2 * rank + num_gpus - 1))\n",
    "module_list.append(nn.Sequential(*tmp_list))\n",
    "\n",
    "# Need to use 'checkpoint=never' since as of PyTorch 1.8, Pipe checkpointing\n",
    "# doesn't work with DDP.\n",
    "from torch.distributed.pipeline.sync import Pipe\n",
    "chunks = 8\n",
    "model = Pipe(torch.nn.Sequential(\n",
    "    *module_list), chunks = chunks, checkpoint=\"never\")\n",
    "\n",
    "# Initialize process group and wrap model in DDP.\n",
    "from torch.nn.parallel import DistributedDataParallel\n",
    "import torch.distributed as dist\n",
    "os.environ['MASTER_ADDR'] = 'localhost'\n",
    "os.environ['MASTER_PORT'] = '29500'\n",
    "dist.init_process_group(\n",
    "            backend=\"nccl\", rank=rank, world_size=world_size)\n",
    "model = DistributedDataParallel(model)\n",
    "\n",
    "def get_total_params(module: torch.nn.Module):\n",
    "    total_params = 0\n",
    "    for param in module.parameters():\n",
    "        total_params += param.numel()\n",
    "    return total_params\n",
    "\n",
    "print_with_rank('Total parameters in model: {:,}'.format(get_total_params(model)))\n",
    "```"
   ]
  },
  {
   "cell_type": "markdown",
   "metadata": {
    "id": "7Fv1CpBxWPia"
   },
   "source": [
    "## Run the model"
   ]
  },
  {
   "cell_type": "markdown",
   "metadata": {
    "id": "sxgNpp9hWPia"
   },
   "source": [
    "[CrossEntropyLoss](https://pytorch.org/docs/master/nn.html?highlight=crossentropyloss#torch.nn.CrossEntropyLoss) is applied to track the loss and [SGD](https://pytorch.org/docs/master/optim.html?highlight=sgd#torch.optim.SGD) implements stochastic gradient descent method as the optimizer. The initial learning rate is set to 5.0. [StepLR](https://pytorch.org/docs/master/optim.html?highlight=steplr#torch.optim.lr_scheduler.StepLR) is applied to adjust the learn rate through epochs. During the training, we use [nn.utils.clip_grad_norm](https://pytorch.org/docs/master/nn.html?highlight=nn%20utils%20clip_grad_norm#torch.nn.utils.clip_grad_norm_) function to scale all the gradient together to prevent exploding."
   ]
  },
  {
   "cell_type": "markdown",
   "metadata": {
    "id": "aMtYuLvjWPia"
   },
   "source": [
    "```python\n",
    "# In 'run_worker'\n",
    "criterion = nn.CrossEntropyLoss()\n",
    "lr = 5.0 # learning rate\n",
    "optimizer = torch.optim.SGD(model.parameters(), lr=lr)\n",
    "scheduler = torch.optim.lr_scheduler.StepLR(optimizer, 1.0, gamma=0.95)\n",
    "\n",
    "import time\n",
    "def train():\n",
    "    model.train() # Turn on the train mode\n",
    "    total_loss = 0.\n",
    "    start_time = time.time()\n",
    "    ntokens = len(vocab)\n",
    "\n",
    "    # Train only for 50 batches to keep script execution time low.\n",
    "    nbatches = min(50 * bptt, train_data.size(0) - 1)\n",
    "\n",
    "    for batch, i in enumerate(range(0, nbatches, bptt)):\n",
    "        data, targets = get_batch(train_data, i)\n",
    "        optimizer.zero_grad()\n",
    "        # Since the Pipe is only within a single host and process the ``RRef``\n",
    "        # returned by forward method is local to this node and can simply\n",
    "        # retrieved via ``RRef.local_value()``.\n",
    "        output = model(data).local_value()\n",
    "        # Need to move targets to the device where the output of the\n",
    "        # pipeline resides.\n",
    "        loss = criterion(output.view(-1, ntokens), targets.cuda(2 * rank + 1))\n",
    "        loss.backward()\n",
    "        torch.nn.utils.clip_grad_norm_(model.parameters(), 0.5)\n",
    "        optimizer.step()\n",
    "\n",
    "        total_loss += loss.item()\n",
    "        log_interval = 10\n",
    "        if batch % log_interval == 0 and batch > 0:\n",
    "            cur_loss = total_loss / log_interval\n",
    "            elapsed = time.time() - start_time\n",
    "            print_with_rank('| epoch {:3d} | {:5d}/{:5d} batches | '\n",
    "                  'lr {:02.2f} | ms/batch {:5.2f} | '\n",
    "                  'loss {:5.2f} | ppl {:8.2f}'.format(\n",
    "                    epoch, batch, nbatches // bptt, scheduler.get_last_lr()[0],\n",
    "                    elapsed * 1000 / log_interval,\n",
    "                    cur_loss, math.exp(cur_loss)))\n",
    "            total_loss = 0\n",
    "            start_time = time.time()\n",
    "\n",
    "def evaluate(eval_model, data_source):\n",
    "    eval_model.eval() # Turn on the evaluation mode\n",
    "    total_loss = 0.\n",
    "    ntokens = len(vocab)\n",
    "    # Evaluate only for 50 batches to keep script execution time low.\n",
    "    nbatches = min(50 * bptt, data_source.size(0) - 1)\n",
    "    with torch.no_grad():\n",
    "        for i in range(0, nbatches, bptt):\n",
    "            data, targets = get_batch(data_source, i)\n",
    "            output = eval_model(data).local_value()\n",
    "            output_flat = output.view(-1, ntokens)\n",
    "            # Need to move targets to the device where the output of the\n",
    "            # pipeline resides.\n",
    "            total_loss += len(data) * criterion(output_flat, targets.cuda(2 * rank + 1)).item()\n",
    "    return total_loss / (len(data_source) - 1)\n",
    "```"
   ]
  },
  {
   "cell_type": "markdown",
   "metadata": {
    "id": "osP9lSMPWPib"
   },
   "source": [
    "Loop over epochs. Save the model if the validation loss is the best\n",
    "we've seen so far. Adjust the learning rate after each epoch.\n",
    "\n"
   ]
  },
  {
   "cell_type": "markdown",
   "metadata": {
    "id": "tWLAr8KwWPib"
   },
   "source": [
    "```python\n",
    "# In 'run_worker'\n",
    "best_val_loss = float(\"inf\")\n",
    "epochs = 3 # The number of epochs\n",
    "best_model = None\n",
    "\n",
    "for epoch in range(1, epochs + 1):\n",
    "    epoch_start_time = time.time()\n",
    "    train()\n",
    "    val_loss = evaluate(model, val_data)\n",
    "    print_with_rank('-' * 89)\n",
    "    print_with_rank('| end of epoch {:3d} | time: {:5.2f}s | valid loss {:5.2f} | '\n",
    "          'valid ppl {:8.2f}'.format(epoch, (time.time() - epoch_start_time),\n",
    "                                     val_loss, math.exp(val_loss)))\n",
    "    print_with_rank('-' * 89)\n",
    "\n",
    "    if val_loss < best_val_loss:\n",
    "        best_val_loss = val_loss\n",
    "        best_model = model\n",
    "\n",
    "    scheduler.step()\n",
    "```"
   ]
  },
  {
   "cell_type": "markdown",
   "metadata": {
    "id": "moMawL_jWPic"
   },
   "source": [
    "## Evaluate the model with the test dataset\n",
    "\n",
    "Apply the best model to check the result with the test dataset."
   ]
  },
  {
   "cell_type": "markdown",
   "metadata": {
    "id": "XCfbnXmrWPic"
   },
   "source": [
    "```python\n",
    "# In 'run_worker'\n",
    "test_loss = evaluate(best_model, test_data)\n",
    "print_with_rank('=' * 89)\n",
    "print_with_rank('| End of training | test loss {:5.2f} | test ppl {:8.2f}'.format(\n",
    "    test_loss, math.exp(test_loss)))\n",
    "print_with_rank('=' * 89)\n",
    "\n",
    "# Main execution\n",
    "import torch.multiprocessing as mp\n",
    "\n",
    "if __name__==\"__main__\":\n",
    "    world_size = 2\n",
    "    mp.spawn(run_worker, args=(world_size, ), nprocs=world_size, join=True)\n",
    "```"
   ]
  },
  {
   "cell_type": "markdown",
   "metadata": {},
   "source": [
    "## Launch command"
   ]
  },
  {
   "cell_type": "code",
   "execution_count": 4,
   "metadata": {},
   "outputs": [
    {
     "name": "stdout",
     "output_type": "stream",
     "text": [
      "[RANK 1]: Total parameters in model: 1,041,444,974\n",
      "[RANK 0]: Total parameters in model: 1,041,444,974\n",
      "Traceback (most recent call last):\n",
      "  File \"code/pipeline_parallelism.py\", line 277, in <module>\n",
      "    mp.spawn(run_worker, args=(world_size, ), nprocs=world_size, join=True)\n",
      "  File \"/opt/conda/lib/python3.8/site-packages/torch/multiprocessing/spawn.py\", line 230, in spawn\n",
      "    return start_processes(fn, args, nprocs, join, daemon, start_method='spawn')\n",
      "  File \"/opt/conda/lib/python3.8/site-packages/torch/multiprocessing/spawn.py\", line 188, in start_processes\n",
      "    while not context.join():\n",
      "  File \"/opt/conda/lib/python3.8/site-packages/torch/multiprocessing/spawn.py\", line 150, in join\n",
      "    raise ProcessRaisedException(msg, error_index, failed_process.pid)\n",
      "torch.multiprocessing.spawn.ProcessRaisedException: \n",
      "\n",
      "-- Process 0 terminated with the following error:\n",
      "Traceback (most recent call last):\n",
      "  File \"/opt/conda/lib/python3.8/site-packages/torch/multiprocessing/spawn.py\", line 59, in _wrap\n",
      "    fn(i, *args)\n",
      "  File \"/workspace/ai-school/code/pipeline_parallelism.py\", line 252, in run_worker\n",
      "    train()\n",
      "  File \"/workspace/ai-school/code/pipeline_parallelism.py\", line 208, in train\n",
      "    output = model(data).local_value()\n",
      "  File \"/opt/conda/lib/python3.8/site-packages/torch/nn/modules/module.py\", line 1102, in _call_impl\n",
      "    return forward_call(*input, **kwargs)\n",
      "  File \"/opt/conda/lib/python3.8/site-packages/torch/nn/parallel/distributed.py\", line 876, in forward\n",
      "    self._sync_params()\n",
      "  File \"/opt/conda/lib/python3.8/site-packages/torch/nn/parallel/distributed.py\", line 1374, in _sync_params\n",
      "    self._distributed_broadcast_coalesced(\n",
      "  File \"/opt/conda/lib/python3.8/site-packages/torch/nn/parallel/distributed.py\", line 1332, in _distributed_broadcast_coalesced\n",
      "    dist._broadcast_coalesced(\n",
      "RuntimeError: unsupported operation: some elements of the input tensor and the written-to tensor refer to a single memory location. Please clone() the tensor before performing the operation.\n",
      "\n"
     ]
    }
   ],
   "source": [
    "! python code/pipeline_parallelism.py"
   ]
  },
  {
   "cell_type": "markdown",
   "metadata": {},
   "source": [
    "## Credits\n",
    "\n",
    "- [https://github.com/pritamdamania87](https://github.com/pritamdamania87)\n",
    "- [https://medium.com/nerd-for-tech/an-overview-of-pipeline-parallelism-and-its-research-progress-7934e5e6d5b8](https://medium.com/nerd-for-tech/an-overview-of-pipeline-parallelism-and-its-research-progress-7934e5e6d5b8)\n"
   ]
  },
  {
   "cell_type": "code",
   "execution_count": null,
   "metadata": {},
   "outputs": [],
   "source": []
  }
 ],
 "metadata": {
  "colab": {
   "name": "ddp_pipeline.ipynb",
   "provenance": []
  },
  "kernelspec": {
   "display_name": "Python 3 (ipykernel)",
   "language": "python",
   "name": "python3"
  },
  "language_info": {
   "codemirror_mode": {
    "name": "ipython",
    "version": 3
   },
   "file_extension": ".py",
   "mimetype": "text/x-python",
   "name": "python",
   "nbconvert_exporter": "python",
   "pygments_lexer": "ipython3",
   "version": "3.8.12"
  }
 },
 "nbformat": 4,
 "nbformat_minor": 4
}
