{
 "cells": [
  {
   "cell_type": "markdown",
   "id": "80baeeab",
   "metadata": {},
   "source": [
    "<p><center> <a href=\"../Start_Here.ipynb\"> Home Page</a> </center> </p> \n",
    "<div>\n",
    "    <span style=\"float: left; width:20%; text-align: left;\"><a href=\"07-Message_Passing.ipynb\" >Previous Notebook </a></span>\n",
    "    <span style=\"float: left; width:75%; text-align: right;\"><a href=\"03-Pipeline_Parallelism.ipynb\" >Next Notebook </a></span>\n",
    "    \n",
    "</div>"
   ]
  },
  {
   "cell_type": "markdown",
   "id": "b181331c",
   "metadata": {},
   "source": [
    "# Horovod\n",
    "\n",
    "---"
   ]
  },
  {
   "cell_type": "markdown",
   "id": "a4586cc0",
   "metadata": {},
   "source": [
    "Horovod is a distributed deep learning training framework for TensorFlow, Keras, PyTorch, and Apache MXNet. The goal of Horovod is to make distributed deep learning fast and easy to use.\n",
    "(https://github.com/horovod/horovod)"
   ]
  },
  {
   "cell_type": "markdown",
   "id": "4c6f535a",
   "metadata": {},
   "source": [
    "## Horovod with PyTorch"
   ]
  },
  {
   "cell_type": "markdown",
   "id": "981ff5c9",
   "metadata": {},
   "source": [
    "To use Horovod with PyTorch, make the following modifications to your training script:\n",
    "\n",
    "1. Run `hvd.init()`.\n",
    "1. Pin each GPU to a single process.\n",
    "    With the typical setup of one GPU per process, set this to local rank. The first process on the server will be allocated the first GPU, the second process will be allocated the second GPU, and so forth.\n",
    "\n",
    "```python\n",
    "    if torch.cuda.is_available():\n",
    "        torch.cuda.set_device(hvd.local_rank())\n",
    "```\n",
    "3. Scale the learning rate by the number of workers.\n",
    "1. Effective batch size in synchronous distributed training is scaled by the number of workers. An increase in learning rate compensates for the increased batch size.\n",
    "1. Wrap the optimizer in `hvd.DistributedOptimizer`.\n",
    "\n",
    "    The distributed optimizer delegates gradient computation to the original optimizer, averages gradients using allreduce or allgather, and then applies those averaged gradients.\n",
    "\n",
    "1. Broadcast the initial variable states from rank 0 to all other processes:\n",
    "\n",
    "```python\n",
    "    hvd.broadcast_parameters(model.state_dict(), root_rank=0)\n",
    "    hvd.broadcast_optimizer_state(optimizer, root_rank=0)\n",
    "```\n",
    "\n",
    "    This is necessary to ensure consistent initialization of all workers when training is started with random weights or restored from a checkpoint.\n",
    "\n",
    "7. Modify your code to save checkpoints only on worker 0 to prevent other workers from corrupting them.\n",
    "\n",
    "    Accomplish this by guarding model checkpointing code with `hvd.rank() != 0`.\n"
   ]
  },
  {
   "cell_type": "markdown",
   "id": "2ec75871",
   "metadata": {},
   "source": [
    "### Example"
   ]
  },
  {
   "cell_type": "markdown",
   "id": "8ca3b2e3",
   "metadata": {},
   "source": [
    "```python\n",
    "import torch\n",
    "import horovod.torch as hvd\n",
    "\n",
    "# Initialize Horovod\n",
    "hvd.init()\n",
    "\n",
    "# Pin GPU to be used to process local rank (one GPU per process)\n",
    "torch.cuda.set_device(hvd.local_rank())\n",
    "\n",
    "# Define dataset...\n",
    "train_dataset = ...\n",
    "\n",
    "# Partition dataset among workers using DistributedSampler\n",
    "train_sampler = torch.utils.data.distributed.DistributedSampler(\n",
    "    train_dataset, num_replicas=hvd.size(), rank=hvd.rank())\n",
    "\n",
    "train_loader = torch.utils.data.DataLoader(train_dataset, batch_size=..., sampler=train_sampler)\n",
    "\n",
    "# Build model...\n",
    "model = ...\n",
    "model.cuda()\n",
    "\n",
    "optimizer = optim.SGD(model.parameters())\n",
    "\n",
    "# Add Horovod Distributed Optimizer\n",
    "optimizer = hvd.DistributedOptimizer(optimizer, named_parameters=model.named_parameters())\n",
    "\n",
    "# Broadcast parameters from rank 0 to all other processes.\n",
    "hvd.broadcast_parameters(model.state_dict(), root_rank=0)\n",
    "\n",
    "for epoch in range(100):\n",
    "   for batch_idx, (data, target) in enumerate(train_loader):\n",
    "       optimizer.zero_grad()\n",
    "       output = model(data)\n",
    "       loss = F.nll_loss(output, target)\n",
    "       loss.backward()\n",
    "       optimizer.step()\n",
    "       if batch_idx % args.log_interval == 0:\n",
    "           print('Train Epoch: {} [{}/{}]\\tLoss: {}'.format(\n",
    "               epoch, batch_idx * len(data), len(train_sampler), loss.item()))\n",
    "```"
   ]
  },
  {
   "cell_type": "markdown",
   "id": "db99399b",
   "metadata": {},
   "source": [
    "## Launch command"
   ]
  },
  {
   "cell_type": "code",
   "execution_count": null,
   "id": "4789c0d2",
   "metadata": {},
   "outputs": [],
   "source": [
    "!horovodrun"
   ]
  },
  {
   "cell_type": "code",
   "execution_count": null,
   "id": "93fba16e",
   "metadata": {},
   "outputs": [],
   "source": [
    "!horovodrun -np 2 --mpi-args=\"--oversubscribe\"  python3 ../source_code/ddp_horovod.py"
   ]
  },
  {
   "cell_type": "markdown",
   "id": "55c54a1a",
   "metadata": {},
   "source": [
    "<div>\n",
    "    <span style=\"float: left; width:20%; text-align: left;\"><a href=\"07-Message_Passing.ipynb\" >Previous Notebook </a></span>\n",
    "    <span style=\"float: left; width:75%; text-align: right;\"><a href=\"03-Pipeline_Parallelism.ipynb\" >Next Notebook </a></span>\n",
    "    \n",
    "</div>\n",
    "<br/>\n",
    "<p><center> <a href=\"../Start_Here.ipynb\"> Home Page</a> </center> </p> "
   ]
  }
 ],
 "metadata": {
  "kernelspec": {
   "display_name": "Python 3",
   "language": "python",
   "name": "python3"
  },
  "language_info": {
   "codemirror_mode": {
    "name": "ipython",
    "version": 3
   },
   "file_extension": ".py",
   "mimetype": "text/x-python",
   "name": "python",
   "nbconvert_exporter": "python",
   "pygments_lexer": "ipython3",
   "version": "3.8.8"
  }
 },
 "nbformat": 4,
 "nbformat_minor": 5
}
