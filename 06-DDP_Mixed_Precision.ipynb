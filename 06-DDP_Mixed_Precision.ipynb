{
 "cells": [
  {
   "cell_type": "markdown",
   "id": "2b33a8b5",
   "metadata": {},
   "source": [
    "# Automatic Mixed Precision"
   ]
  },
  {
   "cell_type": "markdown",
   "id": "3206a7d4",
   "metadata": {},
   "source": [
    "Deep Neural Network training has traditionally relied on IEEE single-precision format, however with mixed precision, you can train with half precision while maintaining the network accuracy achieved with single precision. This technique of using both single- and half-precision representations is referred to as mixed precision technique.\n",
    "- Benefits of Mixed precision training\n",
    "- Speeds up math-intensive operations, such as linear and convolution layers, by using Tensor Cores.\n",
    "- Speeds up memory-limited operations by accessing half the bytes compared to single-precision.\n",
    "- Reduces memory requirements for training models, enabling larger models or larger minibatches."
   ]
  },
  {
   "cell_type": "markdown",
   "id": "47975c04",
   "metadata": {},
   "source": [
    "![AMP](figs/dev-ai-tech-amp.png)"
   ]
  },
  {
   "cell_type": "markdown",
   "id": "acec4f55",
   "metadata": {},
   "source": [
    "## Launch command"
   ]
  },
  {
   "cell_type": "code",
   "execution_count": 3,
   "id": "60c6d194",
   "metadata": {},
   "outputs": [
    {
     "name": "stdout",
     "output_type": "stream",
     "text": [
      "WARNING:torch.distributed.run:*****************************************\n",
      "Setting OMP_NUM_THREADS environment variable for each process to be 1 in default, to avoid your system being overloaded, please further tune the variable for optimal performance in your application as needed. \n",
      "*****************************************\n",
      "Files already downloaded and verified\n",
      "Files already downloaded and verified\n",
      "Start training...\n",
      "[Epoch 1/1] loss: 2.838\n",
      "Finished Training\n",
      "Accuracy of the network on the 10000 test images: 18 %\n",
      "Total elapsed time: 23.30 seconds, Train 1 epoch 12.41 seconds\n"
     ]
    }
   ],
   "source": [
    "! CUDA_VISIBLE_DEVICES=2,3 torchrun --nproc_per_node 2 code/ddp_mixed_precision.py"
   ]
  },
  {
   "cell_type": "code",
   "execution_count": null,
   "id": "07a312e4",
   "metadata": {},
   "outputs": [],
   "source": []
  }
 ],
 "metadata": {
  "kernelspec": {
   "display_name": "Python 3 (ipykernel)",
   "language": "python",
   "name": "python3"
  },
  "language_info": {
   "codemirror_mode": {
    "name": "ipython",
    "version": 3
   },
   "file_extension": ".py",
   "mimetype": "text/x-python",
   "name": "python",
   "nbconvert_exporter": "python",
   "pygments_lexer": "ipython3",
   "version": "3.8.12"
  }
 },
 "nbformat": 4,
 "nbformat_minor": 5
}
