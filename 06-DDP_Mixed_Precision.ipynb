{
 "cells": [
  {
   "cell_type": "markdown",
   "id": "c1f3d1bb",
   "metadata": {},
   "source": [
    "# Automatic Mixed Precision"
   ]
  },
  {
   "cell_type": "markdown",
   "id": "97bc07a3",
   "metadata": {},
   "source": [
    "Deep Neural Network training has traditionally relied on IEEE single-precision format, however with mixed precision, you can train with half precision while maintaining the network accuracy achieved with single precision. This technique of using both single- and half-precision representations is referred to as mixed precision technique.\n",
    "- Benefits of Mixed precision training\n",
    "- Speeds up math-intensive operations, such as linear and convolution layers, by using Tensor Cores.\n",
    "- Speeds up memory-limited operations by accessing half the bytes compared to single-precision.\n",
    "- Reduces memory requirements for training models, enabling larger models or larger minibatches."
   ]
  },
  {
   "cell_type": "markdown",
   "id": "2af3927a",
   "metadata": {},
   "source": [
    "![AMP](figs/dev-ai-tech-amp.png)"
   ]
  },
  {
   "cell_type": "markdown",
   "id": "a8595449",
   "metadata": {},
   "source": [
    "## Launch command"
   ]
  },
  {
   "cell_type": "code",
   "execution_count": 4,
   "id": "e8a20466",
   "metadata": {},
   "outputs": [
    {
     "name": "stdout",
     "output_type": "stream",
     "text": [
      "WARNING:torch.distributed.run:*****************************************\n",
      "Setting OMP_NUM_THREADS environment variable for each process to be 1 in default, to avoid your system being overloaded, please further tune the variable for optimal performance in your application as needed. \n",
      "*****************************************\n",
      "Files already downloaded and verified\n",
      "Files already downloaded and verified\n",
      "Start training...\n",
      "[Epoch 1/1] loss: 2.842\n",
      "Finished Training\n",
      "Accuracy of the network on the 10000 test images: 16 %\n",
      "Total elapsed time: 21.75 seconds, Train 1 epoch 11.32 seconds\n"
     ]
    }
   ],
   "source": [
    "! CUDA_VISIBLE_DEVICES=2,3 torchrun --nproc_per_node 2 code/ddp_mixed_precision.py"
   ]
  },
  {
   "cell_type": "markdown",
   "id": "fbb42ea0",
   "metadata": {},
   "source": [
    "## Credits"
   ]
  },
  {
   "cell_type": "markdown",
   "id": "dffb1dbf",
   "metadata": {},
   "source": [
    "- https://developer.nvidia.com/automatic-mixed-precision"
   ]
  },
  {
   "cell_type": "code",
   "execution_count": null,
   "id": "c1906024",
   "metadata": {},
   "outputs": [],
   "source": []
  }
 ],
 "metadata": {
  "kernelspec": {
   "display_name": "Python 3 (ipykernel)",
   "language": "python",
   "name": "python3"
  },
  "language_info": {
   "codemirror_mode": {
    "name": "ipython",
    "version": 3
   },
   "file_extension": ".py",
   "mimetype": "text/x-python",
   "name": "python",
   "nbconvert_exporter": "python",
   "pygments_lexer": "ipython3",
   "version": "3.8.12"
  }
 },
 "nbformat": 4,
 "nbformat_minor": 5
}
